{
  "nbformat": 4,
  "nbformat_minor": 0,
  "metadata": {
    "colab": {
      "provenance": [],
      "gpuType": "T4",
      "authorship_tag": "ABX9TyMqxQtXc7WYytyszGrOL7PZ",
      "include_colab_link": true
    },
    "kernelspec": {
      "name": "python3",
      "display_name": "Python 3"
    },
    "language_info": {
      "name": "python"
    },
    "accelerator": "GPU"
  },
  "cells": [
    {
      "cell_type": "markdown",
      "metadata": {
        "id": "view-in-github",
        "colab_type": "text"
      },
      "source": [
        "<a href=\"https://colab.research.google.com/github/CuteLoop/MCD-Propedeutico/blob/Collab-mate/RedesNeuronales.ipynb\" target=\"_parent\"><img src=\"https://colab.research.google.com/assets/colab-badge.svg\" alt=\"Open In Colab\"/></a>"
      ]
    },
    {
      "cell_type": "markdown",
      "source": [
        "# Tarea 1\n",
        "\n",
        "## Deficnición de una red neuronal"
      ],
      "metadata": {
        "id": "5uheMCAKGA7w"
      }
    },
    {
      "cell_type": "markdown",
      "source": [
        "Definición informal.\n",
        "\n",
        "\n",
        "Una red neuronal es un grupo interconectado de nodos que puede realizar operaciones como cálculos y estimaciones.\n",
        "\n",
        "Para esot se basa en una colección de unidades llamados nodos, los cuales asemejan el comportamiento de neuronas artificiales.\n",
        "\n",
        "Una neurona, puede recivir \"señales\"  procesarlas y transmitir una \"Señales de respuesta\" a neuronas vecinas.\n",
        " \n",
        "- Las señales de entrada son números reales\n",
        "- Las señales de respuesta suelen formarse tras aplicar una función no lineal, llamada función de activación a la combinación lineal de las funciones de entrada que recibe una neurona.\n",
        "- Además las neurnoas suelen tener funciones que actúan como filtros y deciden las condiciones en las cuales una señal se emite.\n",
        "\n",
        "Las neuronas se organizan por capas y distintas capas suelen realizar operaciones o transofrmaciones distitnas.\n"
      ],
      "metadata": {
        "id": "cESPmpGj0S4g"
      }
    },
    {
      "cell_type": "markdown",
      "source": [
        "*Def* *Red Neuronal de K-capas*\n",
        "\n",
        "\n",
        " Una Red neuronal de K  multicapas es una función $f$, la cuál es una composición de $K$ funciones de varias variables: $$f_1, f_2, f_3,...,f_k$$ y una función $g$.\n",
        "\n",
        "\n",
        "$$f:R^n \\to R^p$$\n",
        "$$f= g\\circ f_k \\circ \\circ...\\circ f_2 \\circ f_1$$\n",
        "\n",
        "- n es la dimensión de la entrada $\\mathbf X$\n",
        "- p es la dimensión de la salida $\\mathbf Y$\n",
        "- g es la función de salida (y puede tomar varias formas dependiendo de la variable de salida)\n",
        "\n",
        "\n",
        "cada una de las funciones $f_i$ es una función multivariable que aplica una función no lineal $a$ llamada función de activación, a la suma de una combinación lineal $\\sum_{i=1} ^n (w_i x_i+b_i) $ de sus entradas sumadas a un término llamado sesgo $\\mathbf b$.\n",
        "\n",
        "\n",
        "$$f_i(x)=a(w_i x+b_i)$$\n",
        "\n",
        "-$w_i x+b_i$ los coeficientes de la combinación lineal son llamados pesos y juegan un papel en describir la importancia para el funcionamiento de la red neuronal.\n",
        "\n",
        "\n",
        "\n"
      ],
      "metadata": {
        "id": "gSpK-10P0WiA"
      }
    },
    {
      "cell_type": "markdown",
      "source": [
        "Algunas aplicaciones de las redes neuronales incluyen la predicción "
      ],
      "metadata": {
        "id": "J8slFZav68EE"
      }
    },
    {
      "cell_type": "markdown",
      "source": [
        "Referencias\n",
        "\n",
        "\n",
        "https://towardsdatascience.com/introduction-to-math-behind-neural-networks-e8b60dbbdeba\n",
        "\n",
        "https://news.mit.edu/2017/explained-neural-networks-deep-learning-0414\n",
        "\n"
      ],
      "metadata": {
        "id": "4LsCnkMLBcQ8"
      }
    },
    {
      "cell_type": "markdown",
      "source": [
        "# Tarea 2\n",
        "\n",
        "## Matemáticas involucradas en las redes neuronales"
      ],
      "metadata": {
        "id": "hl1aDTKKGGJn"
      }
    },
    {
      "cell_type": "markdown",
      "source": [
        "\n",
        "Esquema General de las matemáticas que involucra a las redes neuronales.\n",
        "\n",
        "Las matemáticas utilizadas en Redes Neuronales son diversas. Cómo en muchas otras áreas de las matemáticas aplicadas hay una fuerte influencia de métodos numéricos, análisis Real y del álgebra lineal. \n",
        "\n",
        "Las matemáticas de las redes neuronales por su naturaleza multvariable involucran muchísima álgebra lineal y nos hacen lidiar con muchas matrices. Además el proceso de entrenamiento de una red neuronal es un problema de optimización. Para este tipo de problemas las herramientas del análisis real y los métodos numéricos son bastante provechosas, además de las herramientas de matemáticas discretas, algoritmos y Probabilidad y estadística.\n",
        "\n",
        "\n"
      ],
      "metadata": {
        "id": "6vT00w6vCUj7"
      }
    },
    {
      "cell_type": "markdown",
      "source": [
        "# Tarea3\n",
        "## Flujo de una red Neuronal Entrenada:\n",
        "Una Red neuronal es una función recibe datos de entrenada y produce una salida.\n",
        "Esto lo hace propagando señales a través de capas de neuronas.\n",
        "\n",
        "Cada perceptron de la red recibe una señal de entrada. Realiza una combinación lineal de la entrada, utilizando como coeficientes  los pesos sinàpticos a los que ha llegado con su entrenamiento y finalmente aplica una funcón de activación a esta suma, para propagar el resultado a la siguiente capa de la red neuronal.\n",
        "\n",
        "$$X = (x_1,...x_n) \\to  y = f_i(X)= a(\\sum_{i=1}^{n} w_i x_i + \\mathbf b)$$\n",
        "\n",
        "![Diagrama de un perceptron con cinco señales de entrada](https://drive.google.com/uc?id=17X5OODwZmNawXPtHwwc_i03GCWKe_pZH)\n",
        "\n",
        "\n",
        "\n",
        "\n",
        "# Flujo de entrenamiento\n",
        "\n",
        "Para entrenar una red neuronal artificial prealimentada se utiliza un algoritmo de propagación hacia atrás\n",
        "\n",
        "\n",
        "![Red Neuronal Retroalimentada](https://drive.google.com/uc?id=1ha8w_CkBPL0Pv6O8WtfI1oZYX3MLm2C5)\n",
        "\n",
        "\n",
        "\n",
        "\n",
        "### ¿Qué es una red neuronal prealimentada?\n",
        "La red neuronal prealimentada fue la primera y más sencillas de las redes neuronales. Es una red neuroal donde las conexiones entre las unidades no forman ciclos. Esto las diferencia de las redes neuronales recurrentes.\n",
        "\n",
        "#### Ejemplos de redes neuronales prealimentadas\n",
        "- Perceptron simple\n",
        "- Perceptron multicapa\n",
        " \n",
        "para este algoritmo es necesario tener una función de error que nos mida que tan buena es una predicción hecha por nuestra red neuronal al pasarle datos de entrada y compararla con el valor \n",
        "\n",
        "## ¿Cómo entrenar una red neuronal prealimentada? Con un algoritmo de propagación hacia atraś\n",
        "\n",
        "La idea en la que se basa el algoritmo es encontrar los pesos de nuestros perceptrones y capas de la red neuronal que nos permiten minimizar la función de error.\n",
        "\n",
        "\n"
      ],
      "metadata": {
        "id": "W8PV2VQ9GJDU"
      }
    },
    {
      "cell_type": "markdown",
      "source": [
        "## Aplicaciones de las redes neuronales\n",
        "\n",
        "\n",
        "Las redes neuronales se pueden utilizan para resolver todo tipo de problemas. por ejemplo:\n",
        "\n",
        "- Classificación\n",
        "- Predicción\n",
        "- Filtrado\n",
        "- Optimización\n",
        "- Reconocimiento de patrones\n",
        "- Aproximación de funciones\n"
      ],
      "metadata": {
        "id": "nSkwSB50x4Oq"
      }
    },
    {
      "cell_type": "code",
      "source": [],
      "metadata": {
        "id": "df3SPVp5z-2t"
      },
      "execution_count": null,
      "outputs": []
    },
    {
      "cell_type": "markdown",
      "source": [],
      "metadata": {
        "id": "ZjtZEW8suqNx"
      }
    },
    {
      "cell_type": "markdown",
      "source": [
        "## Tarea Individual: Resolviendo problemas en el área de la salud con redes neuronales.\n",
        "\n",
        "\n",
        "\n"
      ],
      "metadata": {
        "id": "OfE_Ggjjyeq6"
      }
    },
    {
      "cell_type": "markdown",
      "source": [
        "Personalmente hay dos tipos de problemas que me interesan resolver "
      ],
      "metadata": {
        "id": "MLOLM6uQzi8f"
      }
    }
  ]
}
